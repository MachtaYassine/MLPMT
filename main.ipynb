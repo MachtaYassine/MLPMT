{
 "cells": [
  {
   "cell_type": "markdown",
   "metadata": {},
   "source": [
    "# Project Notebook for Machine Learning for portfolio managment and trading"
   ]
  },
  {
   "cell_type": "code",
   "execution_count": 16,
   "metadata": {},
   "outputs": [
    {
     "name": "stdout",
     "output_type": "stream",
     "text": [
      "Requirement already satisfied: numpy in /home/ymachta/miniconda3/envs/MLPMT/lib/python3.11/site-packages (2.2.0)\n",
      "Requirement already satisfied: pandas in /home/ymachta/miniconda3/envs/MLPMT/lib/python3.11/site-packages (2.2.3)\n",
      "Requirement already satisfied: matplotlib in /home/ymachta/miniconda3/envs/MLPMT/lib/python3.11/site-packages (3.9.3)\n",
      "Requirement already satisfied: seaborn in /home/ymachta/miniconda3/envs/MLPMT/lib/python3.11/site-packages (0.13.2)\n",
      "Requirement already satisfied: scikit-learn in /home/ymachta/miniconda3/envs/MLPMT/lib/python3.11/site-packages (1.6.0)\n",
      "Requirement already satisfied: torch in /home/ymachta/miniconda3/envs/MLPMT/lib/python3.11/site-packages (2.5.1)\n",
      "Requirement already satisfied: requests in /home/ymachta/miniconda3/envs/MLPMT/lib/python3.11/site-packages (2.32.3)\n",
      "Requirement already satisfied: beautifulsoup4 in /home/ymachta/miniconda3/envs/MLPMT/lib/python3.11/site-packages (4.12.3)\n",
      "Collecting huggingface_hub\n",
      "  Using cached huggingface_hub-0.26.5-py3-none-any.whl.metadata (13 kB)\n",
      "Requirement already satisfied: python-dateutil>=2.8.2 in /home/ymachta/miniconda3/envs/MLPMT/lib/python3.11/site-packages (from pandas) (2.9.0.post0)\n",
      "Requirement already satisfied: pytz>=2020.1 in /home/ymachta/miniconda3/envs/MLPMT/lib/python3.11/site-packages (from pandas) (2024.2)\n",
      "Requirement already satisfied: tzdata>=2022.7 in /home/ymachta/miniconda3/envs/MLPMT/lib/python3.11/site-packages (from pandas) (2024.2)\n",
      "Requirement already satisfied: contourpy>=1.0.1 in /home/ymachta/miniconda3/envs/MLPMT/lib/python3.11/site-packages (from matplotlib) (1.3.1)\n",
      "Requirement already satisfied: cycler>=0.10 in /home/ymachta/miniconda3/envs/MLPMT/lib/python3.11/site-packages (from matplotlib) (0.12.1)\n",
      "Requirement already satisfied: fonttools>=4.22.0 in /home/ymachta/miniconda3/envs/MLPMT/lib/python3.11/site-packages (from matplotlib) (4.55.3)\n",
      "Requirement already satisfied: kiwisolver>=1.3.1 in /home/ymachta/miniconda3/envs/MLPMT/lib/python3.11/site-packages (from matplotlib) (1.4.7)\n",
      "Requirement already satisfied: packaging>=20.0 in /home/ymachta/miniconda3/envs/MLPMT/lib/python3.11/site-packages (from matplotlib) (24.2)\n",
      "Requirement already satisfied: pillow>=8 in /home/ymachta/miniconda3/envs/MLPMT/lib/python3.11/site-packages (from matplotlib) (11.0.0)\n",
      "Requirement already satisfied: pyparsing>=2.3.1 in /home/ymachta/miniconda3/envs/MLPMT/lib/python3.11/site-packages (from matplotlib) (3.2.0)\n",
      "Requirement already satisfied: scipy>=1.6.0 in /home/ymachta/miniconda3/envs/MLPMT/lib/python3.11/site-packages (from scikit-learn) (1.14.1)\n",
      "Requirement already satisfied: joblib>=1.2.0 in /home/ymachta/miniconda3/envs/MLPMT/lib/python3.11/site-packages (from scikit-learn) (1.4.2)\n",
      "Requirement already satisfied: threadpoolctl>=3.1.0 in /home/ymachta/miniconda3/envs/MLPMT/lib/python3.11/site-packages (from scikit-learn) (3.5.0)\n",
      "Requirement already satisfied: filelock in /home/ymachta/miniconda3/envs/MLPMT/lib/python3.11/site-packages (from torch) (3.16.1)\n",
      "Requirement already satisfied: typing-extensions>=4.8.0 in /home/ymachta/miniconda3/envs/MLPMT/lib/python3.11/site-packages (from torch) (4.12.2)\n",
      "Requirement already satisfied: networkx in /home/ymachta/miniconda3/envs/MLPMT/lib/python3.11/site-packages (from torch) (3.4.2)\n",
      "Requirement already satisfied: jinja2 in /home/ymachta/miniconda3/envs/MLPMT/lib/python3.11/site-packages (from torch) (3.1.4)\n",
      "Requirement already satisfied: fsspec in /home/ymachta/miniconda3/envs/MLPMT/lib/python3.11/site-packages (from torch) (2024.10.0)\n",
      "Requirement already satisfied: nvidia-cuda-nvrtc-cu12==12.4.127 in /home/ymachta/miniconda3/envs/MLPMT/lib/python3.11/site-packages (from torch) (12.4.127)\n",
      "Requirement already satisfied: nvidia-cuda-runtime-cu12==12.4.127 in /home/ymachta/miniconda3/envs/MLPMT/lib/python3.11/site-packages (from torch) (12.4.127)\n",
      "Requirement already satisfied: nvidia-cuda-cupti-cu12==12.4.127 in /home/ymachta/miniconda3/envs/MLPMT/lib/python3.11/site-packages (from torch) (12.4.127)\n",
      "Requirement already satisfied: nvidia-cudnn-cu12==9.1.0.70 in /home/ymachta/miniconda3/envs/MLPMT/lib/python3.11/site-packages (from torch) (9.1.0.70)\n",
      "Requirement already satisfied: nvidia-cublas-cu12==12.4.5.8 in /home/ymachta/miniconda3/envs/MLPMT/lib/python3.11/site-packages (from torch) (12.4.5.8)\n",
      "Requirement already satisfied: nvidia-cufft-cu12==11.2.1.3 in /home/ymachta/miniconda3/envs/MLPMT/lib/python3.11/site-packages (from torch) (11.2.1.3)\n",
      "Requirement already satisfied: nvidia-curand-cu12==10.3.5.147 in /home/ymachta/miniconda3/envs/MLPMT/lib/python3.11/site-packages (from torch) (10.3.5.147)\n",
      "Requirement already satisfied: nvidia-cusolver-cu12==11.6.1.9 in /home/ymachta/miniconda3/envs/MLPMT/lib/python3.11/site-packages (from torch) (11.6.1.9)\n",
      "Requirement already satisfied: nvidia-cusparse-cu12==12.3.1.170 in /home/ymachta/miniconda3/envs/MLPMT/lib/python3.11/site-packages (from torch) (12.3.1.170)\n",
      "Requirement already satisfied: nvidia-nccl-cu12==2.21.5 in /home/ymachta/miniconda3/envs/MLPMT/lib/python3.11/site-packages (from torch) (2.21.5)\n",
      "Requirement already satisfied: nvidia-nvtx-cu12==12.4.127 in /home/ymachta/miniconda3/envs/MLPMT/lib/python3.11/site-packages (from torch) (12.4.127)\n",
      "Requirement already satisfied: nvidia-nvjitlink-cu12==12.4.127 in /home/ymachta/miniconda3/envs/MLPMT/lib/python3.11/site-packages (from torch) (12.4.127)\n",
      "Requirement already satisfied: triton==3.1.0 in /home/ymachta/miniconda3/envs/MLPMT/lib/python3.11/site-packages (from torch) (3.1.0)\n",
      "Requirement already satisfied: sympy==1.13.1 in /home/ymachta/miniconda3/envs/MLPMT/lib/python3.11/site-packages (from torch) (1.13.1)\n",
      "Requirement already satisfied: mpmath<1.4,>=1.1.0 in /home/ymachta/miniconda3/envs/MLPMT/lib/python3.11/site-packages (from sympy==1.13.1->torch) (1.3.0)\n",
      "Requirement already satisfied: charset-normalizer<4,>=2 in /home/ymachta/miniconda3/envs/MLPMT/lib/python3.11/site-packages (from requests) (3.4.0)\n",
      "Requirement already satisfied: idna<4,>=2.5 in /home/ymachta/miniconda3/envs/MLPMT/lib/python3.11/site-packages (from requests) (3.10)\n",
      "Requirement already satisfied: urllib3<3,>=1.21.1 in /home/ymachta/miniconda3/envs/MLPMT/lib/python3.11/site-packages (from requests) (2.2.3)\n",
      "Requirement already satisfied: certifi>=2017.4.17 in /home/ymachta/miniconda3/envs/MLPMT/lib/python3.11/site-packages (from requests) (2024.8.30)\n",
      "Requirement already satisfied: soupsieve>1.2 in /home/ymachta/miniconda3/envs/MLPMT/lib/python3.11/site-packages (from beautifulsoup4) (2.6)\n",
      "Collecting pyyaml>=5.1 (from huggingface_hub)\n",
      "  Downloading PyYAML-6.0.2-cp311-cp311-manylinux_2_17_x86_64.manylinux2014_x86_64.whl.metadata (2.1 kB)\n",
      "Collecting tqdm>=4.42.1 (from huggingface_hub)\n",
      "  Using cached tqdm-4.67.1-py3-none-any.whl.metadata (57 kB)\n",
      "Requirement already satisfied: six>=1.5 in /home/ymachta/miniconda3/envs/MLPMT/lib/python3.11/site-packages (from python-dateutil>=2.8.2->pandas) (1.17.0)\n",
      "Requirement already satisfied: MarkupSafe>=2.0 in /home/ymachta/miniconda3/envs/MLPMT/lib/python3.11/site-packages (from jinja2->torch) (3.0.2)\n",
      "Using cached huggingface_hub-0.26.5-py3-none-any.whl (447 kB)\n",
      "Downloading PyYAML-6.0.2-cp311-cp311-manylinux_2_17_x86_64.manylinux2014_x86_64.whl (762 kB)\n",
      "\u001b[2K   \u001b[90m━━━━━━━━━━━━━━━━━━━━━━━━━━━━━━━━━━━━━━━━\u001b[0m \u001b[32m763.0/763.0 kB\u001b[0m \u001b[31m9.3 MB/s\u001b[0m eta \u001b[36m0:00:00\u001b[0m\n",
      "\u001b[?25hUsing cached tqdm-4.67.1-py3-none-any.whl (78 kB)\n",
      "Installing collected packages: tqdm, pyyaml, huggingface_hub\n",
      "Successfully installed huggingface_hub-0.26.5 pyyaml-6.0.2 tqdm-4.67.1\n"
     ]
    }
   ],
   "source": [
    "!pip install numpy pandas matplotlib seaborn scikit-learn torch requests beautifulsoup4 huggingface_hub"
   ]
  },
  {
   "cell_type": "code",
   "execution_count": 14,
   "metadata": {},
   "outputs": [
    {
     "name": "stdout",
     "output_type": "stream",
     "text": [
      "  % Total    % Received % Xferd  Average Speed   Time    Time     Time  Current\n",
      "                                 Dload  Upload   Total   Spent    Left  Speed\n",
      "  0     0    0     0    0     0      0      0 --:--:-- --:--:-- --:--:--     0\n",
      "100  7069  100  7069    0     0  11212      0 --:--:-- --:--:-- --:--:-- 11212\n",
      "Archive:  ./interest-rates.zip\n",
      "  inflating: ./interest-rates/index.csv  \n",
      "  % Total    % Received % Xferd  Average Speed   Time    Time     Time  Current\n",
      "                                 Dload  Upload   Total   Spent    Left  Speed\n",
      "  0     0    0     0    0     0      0      0 --:--:-- --:--:-- --:--:--     0\n",
      "100 2976k  100 2976k    0     0  1999k      0  0:00:01  0:00:01 --:--:-- 18.4M\n",
      "Archive:  ./fomc-meeting-statements-and-minutes.zip\n",
      "  inflating: ./fomc-meeting-statements-and-minutes/communications.csv  \n"
     ]
    }
   ],
   "source": [
    "#Download datasets\n",
    "#Interest rates data\n",
    "!curl -L -o ./interest-rates.zip https://www.kaggle.com/api/v1/datasets/download/federalreserve/interest-rates\n",
    "!unzip ./interest-rates.zip -d ./interest-rates\n",
    "!mv ./interest-rates/index.csv ./index.csv\n",
    "!rm ./interest-rates.zip\n",
    "!rm -r ./interest-rates\n",
    "#Meeting minutes and statements\n",
    "!curl -L -o ./fomc-meeting-statements-and-minutes.zip https://www.kaggle.com/api/v1/datasets/download/vladtasca/fomc-meeting-statements-and-minutes\n",
    "!unzip ./fomc-meeting-statements-and-minutes.zip -d ./fomc-meeting-statements-and-minutes\n",
    "!mv ./fomc-meeting-statements-and-minutes/communications.csv ./communications.csv\n",
    "!rm ./fomc-meeting-statements-and-minutes.zip\n",
    "!rm -r ./fomc-meeting-statements-and-minutes"
   ]
  },
  {
   "cell_type": "code",
   "execution_count": 30,
   "metadata": {},
   "outputs": [
    {
     "name": "stdout",
     "output_type": "stream",
     "text": [
      "<class 'pandas.core.frame.DataFrame'>\n",
      "RangeIndex: 1984 entries, 0 to 1983\n",
      "Data columns (total 5 columns):\n",
      " #   Column      Non-Null Count  Dtype \n",
      "---  ------      --------------  ----- \n",
      " 0   index       1984 non-null   int64 \n",
      " 1   sentence    1984 non-null   object\n",
      " 2   year        1984 non-null   int64 \n",
      " 3   label       1984 non-null   int64 \n",
      " 4   orig_index  1984 non-null   int64 \n",
      "dtypes: int64(4), object(1)\n",
      "memory usage: 77.6+ KB\n"
     ]
    }
   ],
   "source": [
    "import pandas as pd\n",
    "\n",
    "splits = {'train': 'train.csv', 'test': 'test.csv'}\n",
    "df_train = pd.read_csv(\"hf://datasets/gtfintechlab/fomc_communication/\" + splits[\"train\"])\n",
    "df_test = pd.read_csv(\"hf://datasets/gtfintechlab/fomc_communication/\" + splits[\"test\"])\n",
    "\n",
    "df_train.info()"
   ]
  },
  {
   "cell_type": "code",
   "execution_count": 29,
   "metadata": {},
   "outputs": [
    {
     "name": "stdout",
     "output_type": "stream",
     "text": [
      "<class 'pandas.core.frame.DataFrame'>\n",
      "RangeIndex: 440 entries, 0 to 439\n",
      "Data columns (total 4 columns):\n",
      " #   Column        Non-Null Count  Dtype \n",
      "---  ------        --------------  ----- \n",
      " 0   Date          440 non-null    object\n",
      " 1   Release Date  411 non-null    object\n",
      " 2   Type          440 non-null    object\n",
      " 3   Text          440 non-null    object\n",
      "dtypes: object(4)\n",
      "memory usage: 13.9+ KB\n"
     ]
    }
   ],
   "source": [
    "# load communication.csv\n",
    "df_communication = pd.read_csv(\"communications.csv\")\n",
    "df_communication.info()\n"
   ]
  }
 ],
 "metadata": {
  "kernelspec": {
   "display_name": "MLPMT",
   "language": "python",
   "name": "python3"
  },
  "language_info": {
   "codemirror_mode": {
    "name": "ipython",
    "version": 3
   },
   "file_extension": ".py",
   "mimetype": "text/x-python",
   "name": "python",
   "nbconvert_exporter": "python",
   "pygments_lexer": "ipython3",
   "version": "3.11.11"
  }
 },
 "nbformat": 4,
 "nbformat_minor": 2
}
